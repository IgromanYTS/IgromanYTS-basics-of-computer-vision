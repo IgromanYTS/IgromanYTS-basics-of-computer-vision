{
 "cells": [
  {
   "cell_type": "markdown",
   "metadata": {},
   "source": [
    "# Lab 3\n",
    "\n",
    "Написати програмну реалiзацiю алгоритму лiнiйної фiльтрацiї зображень згорткою. Навести результати роботи вашої програми для наступних фiльтрiв:\n",
    "\n",
    "- згортка зображень - це процес додавання кожного елемента зображення до його сусідів, зважених ядром. Важливо зауважити, що виконувана матрична операція - згортка - це не звичайне множення, хоча й позначається *.\n",
    "- згортка - це процес транспонування рядків і стовпчиків ядра з наступним множенням і додаванням."
   ]
  },
  {
   "cell_type": "code",
   "execution_count": 1,
   "metadata": {},
   "outputs": [],
   "source": [
    "import cv2\n",
    "import numpy as np\n",
    "import os\n",
    "import matplotlib.pyplot as plt"
   ]
  },
  {
   "cell_type": "code",
   "execution_count": 2,
   "metadata": {},
   "outputs": [],
   "source": [
    "file_path = \"/Users/yurab/Desktop/IgromanYTS-basics-of-computer-vision/Lab1/image.png\"\n",
    "img = cv2.imread(file_path)\n",
    "\n",
    "data = np.array(img)\n",
    "data_list = img.tolist()"
   ]
  },
  {
   "cell_type": "code",
   "execution_count": 3,
   "metadata": {},
   "outputs": [],
   "source": [
    "def apply_filter(image, kernel):\n",
    "    image = np.array(image, dtype=np.float32)\n",
    "    kernel = np.flip(kernel)  \n",
    "    pad_h, pad_w = kernel.shape[0] // 2, kernel.shape[1] // 2\n",
    "    padded_image = np.pad(image, ((pad_h, pad_h), (pad_w, pad_w)), mode='reflect')\n",
    "    result = np.zeros_like(image)\n",
    "\n",
    "    for i in range(image.shape[0]):\n",
    "        for j in range(image.shape[1]):\n",
    "            region = padded_image[i:i + kernel.shape[0], j:j + kernel.shape[1]]\n",
    "            result[i, j] = np.sum(region * kernel)\n",
    "\n",
    "    return np.clip(result, 0, 255).astype(np.uint8)"
   ]
  },
  {
   "cell_type": "markdown",
   "metadata": {},
   "source": [
    "1. Зсув зображення на 10 пiкселiв вправо та 20 вниз."
   ]
  },
  {
   "cell_type": "code",
   "execution_count": 4,
   "metadata": {},
   "outputs": [],
   "source": [
    "def moving(data):\n",
    "    a = 10\n",
    "    b = 20\n",
    "    result = np.zeros(data.shape, dtype=np.uint8)\n",
    "\n",
    "    for y in range(data.shape[0]):\n",
    "        for x in range(data.shape[1]):\n",
    "            X_plus = x + a\n",
    "            Y_plus = y + b\n",
    "            if 0 <= X_plus < data.shape[1] and 0 <= Y_plus < data.shape[0]:\n",
    "                result[Y_plus, X_plus] = data[y, x]\n",
    "    return result\n"
   ]
  },
  {
   "cell_type": "code",
   "execution_count": 12,
   "metadata": {},
   "outputs": [
    {
     "data": {
      "text/plain": [
       "True"
      ]
     },
     "execution_count": 12,
     "metadata": {},
     "output_type": "execute_result"
    }
   ],
   "source": [
    "img_shift = moving(data)\n",
    "cv2.imwrite('shifted_image.png', img_shift)"
   ]
  },
  {
   "cell_type": "markdown",
   "metadata": {},
   "source": [
    "2. Iнверсiя.\n"
   ]
  },
  {
   "cell_type": "code",
   "execution_count": 8,
   "metadata": {},
   "outputs": [],
   "source": [
    "def inversion(input_image):\n",
    "\n",
    "    filter_kernel = np.array([[0, 0, 0], [0, -1, 0], [0, 0, 0]])  \n",
    "    filter_kernel = np.flipud(np.fliplr(filter_kernel)) \n",
    "\n",
    "    result_image = np.zeros_like(input_image, dtype=np.float64)\n",
    "    padded_input = np.pad(input_image, ((filter_kernel.shape[0] // 2,), (filter_kernel.shape[1] // 2,)), mode='constant', constant_values=0)\n",
    "\n",
    "    for row in range(input_image.shape[0]):\n",
    "        for col in range(input_image.shape[1]):\n",
    "            region = padded_input[row:row + filter_kernel.shape[0], col:col + filter_kernel.shape[1]]\n",
    "            result_image[row, col] = np.sum(region * filter_kernel)\n",
    "\n",
    "    return result_image.astype(np.uint8)"
   ]
  },
  {
   "cell_type": "code",
   "execution_count": 13,
   "metadata": {},
   "outputs": [
    {
     "data": {
      "text/plain": [
       "True"
      ]
     },
     "execution_count": 13,
     "metadata": {},
     "output_type": "execute_result"
    }
   ],
   "source": [
    "image = cv2.imread(file_path, cv2.IMREAD_GRAYSCALE) \n",
    "\n",
    "img_inversion = inversion(image)\n",
    "cv2.imwrite('img_inversion.png', img_inversion)"
   ]
  },
  {
   "cell_type": "markdown",
   "metadata": {},
   "source": [
    "3. Згладжування по Гауссу (розмiр фiльтра не менше 11х11).\n",
    "\n",
    "$$ \\text{PDF}(x) = \\frac{1}{\\sigma \\sqrt{2\\pi}} e^{-\\frac{(x - \\mu)^2}{2\\sigma^2}} $$"
   ]
  },
  {
   "cell_type": "code",
   "execution_count": 14,
   "metadata": {},
   "outputs": [],
   "source": [
    "def dnorm(value, mean=0, std_deviation=1):\n",
    "    return (1 / (std_deviation * np.sqrt(2 * np.pi))) * np.exp(-0.5 * ((value - mean) / std_deviation) ** 2)\n",
    "\n",
    "def gaussian_kernel(kernel_size, sigma=1, show=True):\n",
    "    \n",
    "    kernel_1D = np.linspace(-(kernel_size // 2), kernel_size // 2, kernel_size)\n",
    "    for index in range(kernel_size):\n",
    "        kernel_1D[index] = dnorm(kernel_1D[index], 0, sigma)\n",
    "    \n",
    "    kernel_2D = np.outer(kernel_1D.T, kernel_1D.T)\n",
    "    kernel_2D /= kernel_2D.sum()  \n",
    "\n",
    "    if show:\n",
    "        plt.imshow(kernel_2D, interpolation='none', cmap='gray')\n",
    "        plt.title(\"Gaussian Kernel\")\n",
    "        plt.colorbar()\n",
    "        plt.show()\n",
    "    return kernel_2D\n",
    "\n",
    "def gaussian(input_image, kernel_size, sigma=1):\n",
    "\n",
    "    filter_kernel = gaussian_kernel(kernel_size, sigma)\n",
    "    padding_size = kernel_size // 2  \n",
    "    \n",
    "    output_image = np.zeros_like(input_image)\n",
    "\n",
    "    for color_channel in range(input_image.shape[2]): \n",
    "        padded_image = np.pad(input_image[..., color_channel], ((padding_size, padding_size), (padding_size, padding_size)), mode='constant')\n",
    "        \n",
    "        for row in range(input_image.shape[0]):\n",
    "            for col in range(input_image.shape[1]):\n",
    "                region = padded_image[row:row + kernel_size, col:col + kernel_size]\n",
    "                output_image[row, col, color_channel] = np.sum(region * filter_kernel)\n",
    "\n",
    "    return output_image"
   ]
  },
  {
   "cell_type": "code",
   "execution_count": 15,
   "metadata": {},
   "outputs": [
    {
     "data": {
      "image/png": "[encoded data removed]",
      "text/plain": [
       "<Figure size 640x480 with 2 Axes>"
      ]
     },
     "metadata": {},
     "output_type": "display_data"
    },
    {
     "data": {
      "text/plain": [
       "True"
      ]
     },
     "execution_count": 15,
     "metadata": {},
     "output_type": "execute_result"
    }
   ],
   "source": [
    "gaussian_img = gaussian(img, 11, sigma=1)\n",
    "cv2.imwrite('img_gaussian.png', gaussian_img)"
   ]
  },
  {
   "cell_type": "markdown",
   "metadata": {},
   "source": [
    "4. Розмиття \"рух по дiагоналi\"(розмiр фiльтра не менше 7х7).\n"
   ]
  },
  {
   "cell_type": "code",
   "execution_count": 16,
   "metadata": {},
   "outputs": [],
   "source": [
    "def diagonal_kernel(kernel_size):\n",
    "    kernel_matrix = np.zeros((kernel_size, kernel_size), dtype=np.float32)\n",
    "    for index in range(kernel_size):\n",
    "        kernel_matrix[index, index] = 1.0  \n",
    "    return kernel_matrix / kernel_size  \n",
    "\n",
    "def diagonal_motion(input_image, kernel_size):\n",
    "    \n",
    "    kernel_matrix = diagonal_kernel(kernel_size)\n",
    "    padding_size = kernel_size // 2\n",
    "    blurred_image = np.zeros_like(input_image)\n",
    "\n",
    "    for color_channel in range(input_image.shape[2]):  \n",
    "        padded_image = np.pad(input_image[..., color_channel], ((padding_size, padding_size), (padding_size, padding_size)), mode='constant')\n",
    "        \n",
    "        for row in range(input_image.shape[0]):\n",
    "            for col in range(input_image.shape[1]):\n",
    "                region = padded_image[row:row + kernel_size, col:col + kernel_size]\n",
    "                blurred_image[row, col, color_channel] = np.sum(region * kernel_matrix)\n",
    "\n",
    "    return blurred_image"
   ]
  },
  {
   "cell_type": "code",
   "execution_count": 17,
   "metadata": {},
   "outputs": [
    {
     "data": {
      "text/plain": [
       "True"
      ]
     },
     "execution_count": 17,
     "metadata": {},
     "output_type": "execute_result"
    }
   ],
   "source": [
    "img_diagonal = diagonal_motion(img, 8)\n",
    "cv2.imwrite('img_diagonal_motion.png', img_diagonal)"
   ]
  },
  {
   "cell_type": "markdown",
   "metadata": {},
   "source": [
    "5. Пiдвищення рiзкостi."
   ]
  },
  {
   "cell_type": "code",
   "execution_count": 18,
   "metadata": {},
   "outputs": [],
   "source": [
    "sharpen_kernel = np.array([[0, -1, 0],\n",
    "                           [-1, 5, -1],\n",
    "                           [0, -1, 0]])\n",
    "\n",
    "def sharpening(input_image, kernel):\n",
    "    padding_size = kernel.shape[0] // 2\n",
    "    padded_image = np.pad(input_image, ((padding_size, padding_size), (padding_size, padding_size), (0, 0)), mode='constant')\n",
    "    convolved_image = np.zeros_like(input_image)\n",
    "\n",
    "    for row in range(input_image.shape[0]):\n",
    "        for col in range(input_image.shape[1]):\n",
    "            region = padded_image[row:row + kernel.shape[0], col:col + kernel.shape[1], :]\n",
    "            for color_channel in range(3):  \n",
    "                convolved_image[row, col, color_channel] = np.clip(np.sum(region[:, :, color_channel] * kernel), 0, 255)\n",
    "\n",
    "    return convolved_image.astype(np.uint8)"
   ]
  },
  {
   "cell_type": "code",
   "execution_count": 19,
   "metadata": {},
   "outputs": [
    {
     "data": {
      "text/plain": [
       "True"
      ]
     },
     "execution_count": 19,
     "metadata": {},
     "output_type": "execute_result"
    }
   ],
   "source": [
    "sharpen_img = sharpening(img, sharpen_kernel)\n",
    "cv2.imwrite('sharpen_img.png', sharpen_img)"
   ]
  },
  {
   "cell_type": "markdown",
   "metadata": {},
   "source": [
    "6. Фiльтр Собеля (напрямок не важливий)\n",
    "\n",
    "$$ \\text{Magnitude} = \\sqrt{(\\text{grad}_x)^2 + (\\text{grad}_y)^2} $$"
   ]
  },
  {
   "cell_type": "code",
   "execution_count": 20,
   "metadata": {},
   "outputs": [],
   "source": [
    "def sobel_filter(input_image):\n",
    "\n",
    "    horizontal_kernel = np.array([[-1, 0, 1],\n",
    "                                  [-2, 0, 2],\n",
    "                                  [-1, 0, 1]])\n",
    "    \n",
    "    vertical_kernel = np.array([[1, 2, 1],\n",
    "                                [0, 0, 0],\n",
    "                                [-1, -2, -1]])\n",
    "\n",
    "    height, width, _ = input_image.shape\n",
    "    padding_size = 1\n",
    "    padded_image = np.pad(input_image, ((padding_size, padding_size), (padding_size, padding_size), (0, 0)), mode='constant')\n",
    "    \n",
    "    result_image = np.zeros((height, width, 3))\n",
    "\n",
    "    for color_channel in range(3):  \n",
    "        for row in range(height):\n",
    "            for col in range(width):\n",
    "                \n",
    "                region = padded_image[row:row + 3, col:col + 3, color_channel]\n",
    "                grad_x = np.sum(region * horizontal_kernel)\n",
    "                grad_y = np.sum(region * vertical_kernel)\n",
    "                result_image[row, col, color_channel] = np.clip(np.sqrt(grad_x**2 + grad_y**2), 0, 255)\n",
    "\n",
    "    return result_image.astype(np.uint8)"
   ]
  },
  {
   "cell_type": "code",
   "execution_count": 21,
   "metadata": {},
   "outputs": [
    {
     "data": {
      "text/plain": [
       "True"
      ]
     },
     "execution_count": 21,
     "metadata": {},
     "output_type": "execute_result"
    }
   ],
   "source": [
    "sobel_result = sobel_filter(img)\n",
    "cv2.imwrite('img_sobel.png', sobel_result)"
   ]
  },
  {
   "cell_type": "markdown",
   "metadata": {},
   "source": [
    "7. Фiльтр границi"
   ]
  },
  {
   "cell_type": "code",
   "execution_count": 22,
   "metadata": {},
   "outputs": [],
   "source": [
    "def border_detection(input_image):\n",
    "\n",
    "    filter_kernel = np.array([[-1, -1, -1],\n",
    "                               [-1,  8, -1],\n",
    "                               [-1, -1, -1]])\n",
    "    \n",
    "    height, width, _ = input_image.shape\n",
    "    padding_size = 1\n",
    "    padded_image = np.pad(input_image, ((padding_size, padding_size), (padding_size, padding_size), (0, 0)), mode='constant')\n",
    "    \n",
    "    result_image = np.zeros_like(input_image)\n",
    "\n",
    "    for color_channel in range(3):  \n",
    "        for row in range(height):\n",
    "            for col in range(width):\n",
    "\n",
    "                region = padded_image[row:row + 3, col:col + 3, color_channel]\n",
    "                result_image[row, col, color_channel] = np.clip(np.sum(region * filter_kernel), 0, 255)\n",
    "\n",
    "    return result_image.astype(np.uint8)"
   ]
  },
  {
   "cell_type": "code",
   "execution_count": 23,
   "metadata": {},
   "outputs": [
    {
     "data": {
      "text/plain": [
       "True"
      ]
     },
     "execution_count": 23,
     "metadata": {},
     "output_type": "execute_result"
    }
   ],
   "source": [
    "img_bord = border_detection(img)\n",
    "cv2.imwrite('img_bord.png', img_bord)"
   ]
  },
  {
   "cell_type": "markdown",
   "metadata": {},
   "source": [
    "8. Ембос фільтр"
   ]
  },
  {
   "cell_type": "code",
   "execution_count": 24,
   "metadata": {},
   "outputs": [],
   "source": [
    "def emboss_effect(input_image):\n",
    "    kernel_matrix = np.array([[-1, -1, -1, -1,  0],\n",
    "                               [-1, -1, -1,  0,  1],\n",
    "                               [-1, -1,  0,  1,  1],\n",
    "                               [-1,  0,  1,  1,  1],\n",
    "                               [ 0,  1,  1,  1,  1]])\n",
    "    \n",
    "    height, width, _ = input_image.shape\n",
    "    padding_size = kernel_matrix.shape[0] // 2\n",
    "\n",
    "    padded_image = np.pad(input_image, ((padding_size, padding_size), (padding_size, padding_size), (0, 0)), mode='constant')\n",
    "\n",
    "    filtered_image = np.zeros_like(input_image, dtype=np.float64)\n",
    "\n",
    "    for row in range(height):\n",
    "        \n",
    "        for col in range(width):\n",
    "            region = padded_image[row:row + 5, col:col + 5, :]\n",
    "            for color_channel in range(3):  \n",
    "                filtered_image[row, col, color_channel] = np.clip(np.sum(region[:, :, color_channel] * kernel_matrix), 0, 255)\n",
    "\n",
    "    return filtered_image.astype(np.uint8)  "
   ]
  },
  {
   "cell_type": "code",
   "execution_count": 25,
   "metadata": {},
   "outputs": [
    {
     "data": {
      "text/plain": [
       "True"
      ]
     },
     "execution_count": 25,
     "metadata": {},
     "output_type": "execute_result"
    }
   ],
   "source": [
    "emboss_img = emboss_effect(img)\n",
    "cv2.imwrite('emboss_img.png', emboss_img)"
   ]
  }
 ],
 "metadata": {
  "kernelspec": {
   "display_name": "base",
   "language": "python",
   "name": "python3"
  },
  "language_info": {
   "codemirror_mode": {
    "name": "ipython",
    "version": 3
   },
   "file_extension": ".py",
   "mimetype": "text/x-python",
   "name": "python",
   "nbconvert_exporter": "python",
   "pygments_lexer": "ipython3",
   "version": "3.12.2"
  }
 },
 "nbformat": 4,
 "nbformat_minor": 2
}
