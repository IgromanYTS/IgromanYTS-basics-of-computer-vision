{
 "cells": [
  {
   "cell_type": "code",
   "execution_count": 4,
   "metadata": {},
   "outputs": [],
   "source": [
    "import os\n",
    "from PIL import Image\n",
    "import numpy as np\n",
    "import matplotlib\n",
    "import matplotlib.pyplot as plt\n",
    "import matplotlib.image as mpimg\n",
    "import cv2\n",
    "from typing import Tuple\n",
    "import numpy as np"
   ]
  },
  {
   "cell_type": "markdown",
   "metadata": {},
   "source": [
    "# Локальна порогова обрабка\n",
    "\n",
    "### Метод Niblack\n",
    "\n",
    "Метод використовується практично для швидкої фільтрації контрастних зображень, у яких відсутні сильно зашумлені області з плавними переходами яскравості.\n",
    "\n",
    "- μ(x, y) – середнє і s(x, y) – середньоквадратичне відхилення вибірки для деякої околиці точки.\n",
    "- Значення k визначає, яку частину межі об'єкта взяти як самий об'єкт."
   ]
  },
  {
   "cell_type": "code",
   "execution_count": 2,
   "metadata": {},
   "outputs": [],
   "source": [
    "def niblack(image, k, size=5):\n",
    "\n",
    "    height, width = image.shape\n",
    "    image_copy = image.copy()\n",
    "\n",
    "    radius = (size - 1) // 2\n",
    "\n",
    "    for i in range(radius, height - radius):\n",
    "        \n",
    "        for j in range(radius, width - radius):\n",
    "\n",
    "            block = image[i - radius:i + radius + 1, j - radius:j + radius + 1]\n",
    "\n",
    "            mean_value = np.sum(block) / (size * size)\n",
    "            block_std = np.sqrt(np.sum((block - mean_value) ** 2) / (size * size))\n",
    "        \n",
    "            threshold = mean_value + k * block_std\n",
    "            \n",
    "            if image[i, j] < threshold:\n",
    "                image_copy[i, j] = 0\n",
    "            else:\n",
    "                image_copy[i, j] = 255\n",
    "\n",
    "    return image_copy"
   ]
  },
  {
   "cell_type": "markdown",
   "metadata": {},
   "source": [
    "### Саувола метод\n",
    "\n",
    "- k - коефіцієнт контролю в діапазоні [0,2, 0,5] \n",
    "- R – це попередньо визначене значення рівня сірого зображення.\n",
    "- s - стандартне відхилення околиці\n",
    "\n",
    "$$\n",
    "T(x, y) = \\mu(x, y) \\cdot \\left[ 1 - k \\cdot \\left(1 - \\frac{s(x, y)}{R} \\right) \\right]\n",
    "$$"
   ]
  },
  {
   "cell_type": "code",
   "execution_count": 3,
   "metadata": {},
   "outputs": [],
   "source": [
    "def sauvola(image, size=5, max_value=128, k=0.5):\n",
    "    \n",
    "    height, width = image.shape\n",
    "    output_image = np.copy(image)\n",
    "\n",
    "    radius = (size - 1) // 2\n",
    "\n",
    "    for i in range(radius, height - radius):\n",
    "        for j in range(radius, width - radius):\n",
    "\n",
    "            block = image[i - radius:i + radius + 1, j - radius:j + radius + 1]\n",
    "\n",
    "            block_mean = np.mean(block)\n",
    "            block_std = np.std(block)\n",
    "\n",
    "            threshold = block_mean * (1 - k * (1 - (block_std / max_value)))\n",
    "            if image[i, j] < threshold:\n",
    "                output_image[i, j] = 0\n",
    "            else:\n",
    "                output_image[i, j] = 255\n",
    "\n",
    "    return output_image"
   ]
  },
  {
   "cell_type": "markdown",
   "metadata": {},
   "source": [
    "### Крістіан метод"
   ]
  },
  {
   "cell_type": "code",
   "execution_count": 5,
   "metadata": {},
   "outputs": [],
   "source": [
    "def christian(image, size=5, k=0.5):\n",
    "\n",
    "    height, width = image.shape\n",
    "    output_image = np.copy(image)\n",
    "\n",
    "    min_value = np.min(image)\n",
    "    max_block_std = 0  \n",
    "    \n",
    "    for x in range(size // 2, height - size // 2):\n",
    "        for y in range(size // 2, width - size // 2):\n",
    "\n",
    "            block = image[x - (size // 2): x + (size // 2) + 1, y - (size // 2): y + (size // 2) + 1]\n",
    "\n",
    "            block_std = np.std(block)\n",
    "   \n",
    "            if block_std > max_block_std:\n",
    "                max_block_std = block_std\n",
    "\n",
    "    radius = (size - 1) // 2\n",
    "\n",
    "    for i in range(radius, height - radius):\n",
    "        for j in range(radius, width - radius):\n",
    "\n",
    "            block = image[i - radius:i + radius + 1, j - radius:j + radius + 1]\n",
    "\n",
    "            block_mean = np.mean(block)\n",
    "            block_std = np.std(block)\n",
    "\n",
    "            threshold = (1 - k) * block_mean + k * min_value + k * (block_std / max_block_std) * (block_mean - min_value)\n",
    " \n",
    "            if image[i, j] < threshold:\n",
    "                output_image[i, j] = 0\n",
    "            else:\n",
    "                output_image[i, j] = 255\n",
    "\n",
    "    return output_image"
   ]
  },
  {
   "cell_type": "code",
   "execution_count": 6,
   "metadata": {},
   "outputs": [],
   "source": [
    "filepath = \"/Users/yurab/Desktop/IgromanYTS-basics-of-computer-vision/Lab1/image.png\""
   ]
  },
  {
   "cell_type": "code",
   "execution_count": 7,
   "metadata": {},
   "outputs": [],
   "source": [
    "def resize_with_padding(image: np.array, new_shape: Tuple[int, int], padding_color: Tuple[int] = (255, 255, 255)) -> np.array:\n",
    "    original_shape = (image.shape[1], image.shape[0])\n",
    "    scale_ratio = float(max(new_shape)) / max(original_shape)\n",
    "    new_size = tuple([int(dim * scale_ratio) for dim in original_shape])\n",
    "\n",
    "    if new_size[0] > new_shape[0] or new_size[1] > new_shape[1]:\n",
    "        scale_ratio = float(min(new_shape)) / min(original_shape)\n",
    "        new_size = tuple([int(dim * scale_ratio) for dim in original_shape])\n",
    "\n",
    "    image = cv2.resize(image, new_size)\n",
    "    delta_rows = new_shape[0] - new_size[0]\n",
    "    delta_cols = new_shape[1] - new_size[1]\n",
    "    top, bottom = delta_cols // 2, delta_cols - (delta_cols // 2)\n",
    "    left, right = delta_rows // 2, delta_rows - (delta_rows // 2)\n",
    "\n",
    "    image = cv2.copyMakeBorder(image, top, bottom, left, right, cv2.BORDER_CONSTANT, None, value=padding_color)\n",
    "    return image"
   ]
  },
  {
   "cell_type": "code",
   "execution_count": 10,
   "metadata": {},
   "outputs": [
    {
     "data": {
      "text/plain": [
       "True"
      ]
     },
     "execution_count": 10,
     "metadata": {},
     "output_type": "execute_result"
    }
   ],
   "source": [
    "img = cv2.imread(filepath, cv2.IMREAD_GRAYSCALE)\n",
    "\n",
    "niblack_img = niblack(img,-0.2)\n",
    "cv2.imwrite('image_n.png', niblack_img)\n",
    "\n",
    "sauvola_img= sauvola(img)\n",
    "cv2.imwrite('image_s.png', sauvola_img)\n",
    "\n",
    "christian_img = christian(img, )\n",
    "cv2.imwrite('image_c.png', christian_img)"
   ]
  }
 ],
 "metadata": {
  "kernelspec": {
   "display_name": "base",
   "language": "python",
   "name": "python3"
  },
  "language_info": {
   "codemirror_mode": {
    "name": "ipython",
    "version": 3
   },
   "file_extension": ".py",
   "mimetype": "text/x-python",
   "name": "python",
   "nbconvert_exporter": "python",
   "pygments_lexer": "ipython3",
   "version": "3.12.2"
  }
 },
 "nbformat": 4,
 "nbformat_minor": 2
}
